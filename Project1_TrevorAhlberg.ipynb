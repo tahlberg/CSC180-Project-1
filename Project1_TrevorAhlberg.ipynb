{
 "cells": [
  {
   "cell_type": "code",
   "execution_count": 25,
   "id": "c90f86ac",
   "metadata": {},
   "outputs": [],
   "source": [
    "from collections.abc import Sequence\n",
    "from sklearn import preprocessing\n",
    "import sklearn.feature_extraction.text as sk_text\n",
    "from sklearn.model_selection import train_test_split\n",
    "import matplotlib.pyplot as plt\n",
    "import tensorflow as tf\n",
    "import tensorflow.keras \n",
    "from tensorflow.keras.models import Sequential\n",
    "from tensorflow.keras.layers import Dense, Activation\n",
    "from tensorflow.keras.callbacks import EarlyStopping\n",
    "from tensorflow.keras.callbacks import ModelCheckpoint\n",
    "from tensorflow.keras.callbacks import EarlyStopping\n",
    "from tensorflow.keras.callbacks import ModelCheckpoint\n",
    "from tensorflow.keras import optimizers\n",
    "from scipy.stats import zscore\n",
    "import pandas as pd\n",
    "import json\n",
    "import csv\n",
    "import io\n",
    "import requests\n",
    "import shutil\n",
    "import os\n",
    "import numpy as np\n",
    "from sklearn import metrics\n",
    "path = \"./yelp_dataset/\"\n",
    "\n"
   ]
  },
  {
   "cell_type": "code",
   "execution_count": 26,
   "id": "df00c771",
   "metadata": {},
   "outputs": [],
   "source": [
    "#Import helper functions\n",
    "\n",
    "# Encode text values to dummy variables(i.e. [1,0,0],[0,1,0],[0,0,1] for red,green,blue)\n",
    "def encode_text_dummy(df, name):\n",
    "    dummies = pd.get_dummies(df[name])\n",
    "    for x in dummies.columns:\n",
    "        dummy_name = \"{}-{}\".format(name, x)\n",
    "        df[dummy_name] = dummies[x]\n",
    "    df.drop(name, axis=1, inplace=True)\n",
    "\n",
    "\n",
    "\n",
    "# Encode text values to indexes(i.e. [1],[2],[3] for red,green,blue).\n",
    "def encode_text_index(df, name):\n",
    "    le = preprocessing.LabelEncoder()\n",
    "    df[name] = le.fit_transform(df[name])\n",
    "    return le.classes_\n",
    "\n",
    "\n",
    "# Encode a numeric column as zscores\n",
    "def encode_numeric_zscore(df, name, mean=None, sd=None):\n",
    "    if mean is None:\n",
    "        mean = df[name].mean()\n",
    "\n",
    "    if sd is None:\n",
    "        sd = df[name].std()\n",
    "\n",
    "    df[name] = (df[name] - mean) / sd\n",
    "\n",
    "\n",
    "# Convert all missing values in the specified column to the median\n",
    "def missing_median(df, name):\n",
    "    med = df[name].median()\n",
    "    df[name] = df[name].fillna(med)\n",
    "\n",
    "\n",
    "# Convert all missing values in the specified column to the default\n",
    "def missing_default(df, name, default_value):\n",
    "    df[name] = df[name].fillna(default_value)\n",
    "\n",
    "\n",
    "# Convert a Pandas dataframe to the x,y inputs that TensorFlow needs\n",
    "def to_xy(df, target):\n",
    "    result = []\n",
    "    for x in df.columns:\n",
    "        if x != target:\n",
    "            result.append(x)\n",
    "    # find out the type of the target column. \n",
    "    target_type = df[target].dtypes\n",
    "    target_type = target_type[0] if isinstance(target_type, Sequence) else target_type\n",
    "    # Encode to int for classification, float otherwise. TensorFlow likes 32 bits.\n",
    "    if target_type in (np.int64, np.int32):\n",
    "        # Classification\n",
    "        dummies = pd.get_dummies(df[target])\n",
    "        return df[result].values.astype(np.float32), dummies.values.astype(np.float32)\n",
    "    else:\n",
    "        # Regression\n",
    "        return df[result].values.astype(np.float32), df[target].values.astype(np.float32)\n",
    "\n",
    "# Nicely formatted time string\n",
    "def hms_string(sec_elapsed):\n",
    "    h = int(sec_elapsed / (60 * 60))\n",
    "    m = int((sec_elapsed % (60 * 60)) / 60)\n",
    "    s = sec_elapsed % 60\n",
    "    return \"{}:{:>02}:{:>05.2f}\".format(h, m, s)\n",
    "\n",
    "\n",
    "# Regression chart.\n",
    "def chart_regression(pred,y,sort=True):\n",
    "    t = pd.DataFrame({'pred' : pred, 'y' : y.flatten()})\n",
    "    if sort:\n",
    "        t.sort_values(by=['y'],inplace=True)\n",
    "    a = plt.plot(t['y'].tolist(),label='expected')\n",
    "    b = plt.plot(t['pred'].tolist(),label='prediction')\n",
    "    plt.ylabel('output')\n",
    "    plt.legend()\n",
    "    plt.show()\n",
    "\n",
    "# Remove all rows where the specified column is +/- sd standard deviations\n",
    "def remove_outliers(df, name, sd):\n",
    "    drop_rows = df.index[(np.abs(df[name] - df[name].mean()) >= (sd * df[name].std()))]\n",
    "    df.drop(drop_rows, axis=0, inplace=True)\n",
    "\n",
    "\n",
    "# Encode a column to a range between normalized_low and normalized_high.\n",
    "def encode_numeric_range(df, name, normalized_low=-1, normalized_high=1,\n",
    "                         data_low=None, data_high=None):\n",
    "    if data_low is None:\n",
    "        data_low = min(df[name])\n",
    "        data_high = max(df[name])\n",
    "\n",
    "    df[name] = ((df[name] - data_low) / (data_high - data_low)) \\\n",
    "               * (normalized_high - normalized_low) + normalized_low\n",
    "\n",
    "\n"
   ]
  },
  {
   "cell_type": "code",
   "execution_count": 27,
   "id": "ef51522e",
   "metadata": {},
   "outputs": [
    {
     "data": {
      "text/html": [
       "<div>\n",
       "<style scoped>\n",
       "    .dataframe tbody tr th:only-of-type {\n",
       "        vertical-align: middle;\n",
       "    }\n",
       "\n",
       "    .dataframe tbody tr th {\n",
       "        vertical-align: top;\n",
       "    }\n",
       "\n",
       "    .dataframe thead th {\n",
       "        text-align: right;\n",
       "    }\n",
       "</style>\n",
       "<table border=\"1\" class=\"dataframe\">\n",
       "  <thead>\n",
       "    <tr style=\"text-align: right;\">\n",
       "      <th></th>\n",
       "      <th>business_id</th>\n",
       "      <th>stars</th>\n",
       "      <th>text</th>\n",
       "    </tr>\n",
       "  </thead>\n",
       "  <tbody>\n",
       "    <tr>\n",
       "      <th>0</th>\n",
       "      <td>buF9druCkbuXLX526sGELQ</td>\n",
       "      <td>4.0</td>\n",
       "      <td>b\"Apparently Prides Osteria had a rough summer...</td>\n",
       "    </tr>\n",
       "    <tr>\n",
       "      <th>1</th>\n",
       "      <td>RA4V8pr014UyUbDvI-LW2A</td>\n",
       "      <td>4.0</td>\n",
       "      <td>b'This store is pretty good. Not as great as W...</td>\n",
       "    </tr>\n",
       "    <tr>\n",
       "      <th>2</th>\n",
       "      <td>_sS2LBIGNT5NQb6PD1Vtjw</td>\n",
       "      <td>5.0</td>\n",
       "      <td>b\"I called WVM on the recommendation of a coup...</td>\n",
       "    </tr>\n",
       "    <tr>\n",
       "      <th>3</th>\n",
       "      <td>0AzLzHfOJgL7ROwhdww2ew</td>\n",
       "      <td>2.0</td>\n",
       "      <td>b\"I've stayed at many Marriott and Renaissance...</td>\n",
       "    </tr>\n",
       "    <tr>\n",
       "      <th>4</th>\n",
       "      <td>8zehGz9jnxPqXtOc7KaJxA</td>\n",
       "      <td>4.0</td>\n",
       "      <td>b\"The food is always great here. The service f...</td>\n",
       "    </tr>\n",
       "  </tbody>\n",
       "</table>\n",
       "</div>"
      ],
      "text/plain": [
       "              business_id  stars  \\\n",
       "0  buF9druCkbuXLX526sGELQ    4.0   \n",
       "1  RA4V8pr014UyUbDvI-LW2A    4.0   \n",
       "2  _sS2LBIGNT5NQb6PD1Vtjw    5.0   \n",
       "3  0AzLzHfOJgL7ROwhdww2ew    2.0   \n",
       "4  8zehGz9jnxPqXtOc7KaJxA    4.0   \n",
       "\n",
       "                                                text  \n",
       "0  b\"Apparently Prides Osteria had a rough summer...  \n",
       "1  b'This store is pretty good. Not as great as W...  \n",
       "2  b\"I called WVM on the recommendation of a coup...  \n",
       "3  b\"I've stayed at many Marriott and Renaissance...  \n",
       "4  b\"The food is always great here. The service f...  "
      ]
     },
     "execution_count": 27,
     "metadata": {},
     "output_type": "execute_result"
    }
   ],
   "source": [
    "#Read review data from json file\n",
    "\n",
    "outfile = open(\"review_stars.tsv\", 'w')\n",
    "sfile = csv.writer(outfile, delimiter=\"\\t\", quoting=csv.QUOTE_MINIMAL)\n",
    "sfile.writerow(['business_id','stars','text'])\n",
    "filename_read = os.path.join(path,\"yelp_academic_dataset_review.json\")\n",
    "lineCount = 0\n",
    "\n",
    "with open(filename_read, encoding=\"utf-8\") as f:\n",
    "    for line in f:\n",
    "        row = json.loads(line)\n",
    "        # some special char must be encoded in 'utf-8'\n",
    "        sfile.writerow([row['business_id'],row['stars'],(row['text']).encode('utf-8')])\n",
    "        #lineCount += 1\n",
    "        #if lineCount >= 1000:\n",
    "         #   break;\n",
    "        \n",
    "outfile.close()\n",
    "\n",
    "df_review=pd.read_csv('review_stars.tsv',delimiter=\"\\t\",encoding=\"utf=8\")\n",
    "\n",
    "df_review[0:5]"
   ]
  },
  {
   "cell_type": "code",
   "execution_count": 28,
   "id": "75b63dde",
   "metadata": {},
   "outputs": [
    {
     "data": {
      "text/html": [
       "<div>\n",
       "<style scoped>\n",
       "    .dataframe tbody tr th:only-of-type {\n",
       "        vertical-align: middle;\n",
       "    }\n",
       "\n",
       "    .dataframe tbody tr th {\n",
       "        vertical-align: top;\n",
       "    }\n",
       "\n",
       "    .dataframe thead th {\n",
       "        text-align: right;\n",
       "    }\n",
       "</style>\n",
       "<table border=\"1\" class=\"dataframe\">\n",
       "  <thead>\n",
       "    <tr style=\"text-align: right;\">\n",
       "      <th></th>\n",
       "      <th>business_id</th>\n",
       "      <th>stars</th>\n",
       "      <th>review_count</th>\n",
       "    </tr>\n",
       "  </thead>\n",
       "  <tbody>\n",
       "    <tr>\n",
       "      <th>0</th>\n",
       "      <td>6iYb2HFDywm3zjuRg0shjw</td>\n",
       "      <td>4.0</td>\n",
       "      <td>86</td>\n",
       "    </tr>\n",
       "    <tr>\n",
       "      <th>1</th>\n",
       "      <td>tCbdrRPZA0oiIYSmHG3J0w</td>\n",
       "      <td>4.0</td>\n",
       "      <td>126</td>\n",
       "    </tr>\n",
       "    <tr>\n",
       "      <th>5</th>\n",
       "      <td>D4JtQNTI4X3KcbzacDJsMw</td>\n",
       "      <td>3.5</td>\n",
       "      <td>169</td>\n",
       "    </tr>\n",
       "    <tr>\n",
       "      <th>8</th>\n",
       "      <td>N3_Gs3DnX4k9SgpwJxdEfw</td>\n",
       "      <td>5.0</td>\n",
       "      <td>30</td>\n",
       "    </tr>\n",
       "    <tr>\n",
       "      <th>12</th>\n",
       "      <td>HPA_qyMEddpAEtFof02ixg</td>\n",
       "      <td>4.0</td>\n",
       "      <td>39</td>\n",
       "    </tr>\n",
       "  </tbody>\n",
       "</table>\n",
       "</div>"
      ],
      "text/plain": [
       "               business_id  stars  review_count\n",
       "0   6iYb2HFDywm3zjuRg0shjw    4.0            86\n",
       "1   tCbdrRPZA0oiIYSmHG3J0w    4.0           126\n",
       "5   D4JtQNTI4X3KcbzacDJsMw    3.5           169\n",
       "8   N3_Gs3DnX4k9SgpwJxdEfw    5.0            30\n",
       "12  HPA_qyMEddpAEtFof02ixg    4.0            39"
      ]
     },
     "execution_count": 28,
     "metadata": {},
     "output_type": "execute_result"
    }
   ],
   "source": [
    "#Read business data from json file\n",
    "\n",
    "outfile = open(\"business_stars.tsv\", 'w')\n",
    "sfile = csv.writer(outfile, delimiter=\"\\t\", quoting=csv.QUOTE_MINIMAL)\n",
    "sfile.writerow(['business_id','stars','review_count'])\n",
    "filename_read = os.path.join(path,\"yelp_academic_dataset_business.json\")\n",
    "lineCount = 0\n",
    "\n",
    "with open(filename_read, encoding=\"utf-8\") as f:\n",
    "    for line in f:\n",
    "        row = json.loads(line)\n",
    "        # some special char must be encoded in 'utf-8'\n",
    "        sfile.writerow([row['business_id'],row['stars'],row['review_count']])\n",
    "        #lineCount += 1\n",
    "        #if lineCount >= 1000:\n",
    "         #   break;\n",
    "        \n",
    "outfile.close()\n",
    "\n",
    "df_business=pd.read_csv('business_stars.tsv',delimiter=\"\\t\",encoding=\"utf=8\")\n",
    "\n",
    "df_business = df_business[df_business['review_count'] >= 20]\n",
    "\n",
    "df_business[0:5]"
   ]
  },
  {
   "cell_type": "code",
   "execution_count": 52,
   "id": "ced8111b",
   "metadata": {},
   "outputs": [
    {
     "data": {
      "text/html": [
       "<div>\n",
       "<style scoped>\n",
       "    .dataframe tbody tr th:only-of-type {\n",
       "        vertical-align: middle;\n",
       "    }\n",
       "\n",
       "    .dataframe tbody tr th {\n",
       "        vertical-align: top;\n",
       "    }\n",
       "\n",
       "    .dataframe thead th {\n",
       "        text-align: right;\n",
       "    }\n",
       "</style>\n",
       "<table border=\"1\" class=\"dataframe\">\n",
       "  <thead>\n",
       "    <tr style=\"text-align: right;\">\n",
       "      <th></th>\n",
       "      <th>business_id</th>\n",
       "      <th>stars_x</th>\n",
       "      <th>review_count</th>\n",
       "      <th>stars_y</th>\n",
       "      <th>text</th>\n",
       "    </tr>\n",
       "  </thead>\n",
       "  <tbody>\n",
       "    <tr>\n",
       "      <th>0</th>\n",
       "      <td>6iYb2HFDywm3zjuRg0shjw</td>\n",
       "      <td>4.0</td>\n",
       "      <td>86</td>\n",
       "      <td>5.0</td>\n",
       "      <td>b\"Stopped in on a busy Friday night. Despite t...</td>\n",
       "    </tr>\n",
       "    <tr>\n",
       "      <th>1</th>\n",
       "      <td>6iYb2HFDywm3zjuRg0shjw</td>\n",
       "      <td>4.0</td>\n",
       "      <td>86</td>\n",
       "      <td>2.0</td>\n",
       "      <td>b\"Went there about 1 PM on a Monday.  It wasn'...</td>\n",
       "    </tr>\n",
       "    <tr>\n",
       "      <th>2</th>\n",
       "      <td>6iYb2HFDywm3zjuRg0shjw</td>\n",
       "      <td>4.0</td>\n",
       "      <td>86</td>\n",
       "      <td>5.0</td>\n",
       "      <td>b\"This was the place the be on Friday Night! I...</td>\n",
       "    </tr>\n",
       "    <tr>\n",
       "      <th>3</th>\n",
       "      <td>6iYb2HFDywm3zjuRg0shjw</td>\n",
       "      <td>4.0</td>\n",
       "      <td>86</td>\n",
       "      <td>4.0</td>\n",
       "      <td>b\"Went to this place with my family over the w...</td>\n",
       "    </tr>\n",
       "    <tr>\n",
       "      <th>4</th>\n",
       "      <td>6iYb2HFDywm3zjuRg0shjw</td>\n",
       "      <td>4.0</td>\n",
       "      <td>86</td>\n",
       "      <td>4.0</td>\n",
       "      <td>b\"Stopped on a midweek afternoon, and so glad ...</td>\n",
       "    </tr>\n",
       "  </tbody>\n",
       "</table>\n",
       "</div>"
      ],
      "text/plain": [
       "              business_id  stars_x  review_count  stars_y  \\\n",
       "0  6iYb2HFDywm3zjuRg0shjw      4.0            86      5.0   \n",
       "1  6iYb2HFDywm3zjuRg0shjw      4.0            86      2.0   \n",
       "2  6iYb2HFDywm3zjuRg0shjw      4.0            86      5.0   \n",
       "3  6iYb2HFDywm3zjuRg0shjw      4.0            86      4.0   \n",
       "4  6iYb2HFDywm3zjuRg0shjw      4.0            86      4.0   \n",
       "\n",
       "                                                text  \n",
       "0  b\"Stopped in on a busy Friday night. Despite t...  \n",
       "1  b\"Went there about 1 PM on a Monday.  It wasn'...  \n",
       "2  b\"This was the place the be on Friday Night! I...  \n",
       "3  b\"Went to this place with my family over the w...  \n",
       "4  b\"Stopped on a midweek afternoon, and so glad ...  "
      ]
     },
     "execution_count": 52,
     "metadata": {},
     "output_type": "execute_result"
    }
   ],
   "source": [
    "#Match reviews with businesses\n",
    "df=pd.merge(df_business, df_review, how='inner', on='business_id')\n",
    "\n",
    "#Remove reviews with no business (business has less than 20 reviews)\n",
    "df.dropna(axis=0, how='any', inplace=True)\n",
    "\n",
    "df[0:5]"
   ]
  },
  {
   "cell_type": "code",
   "execution_count": 30,
   "id": "e9100021",
   "metadata": {},
   "outputs": [
    {
     "data": {
      "text/html": [
       "<div>\n",
       "<style scoped>\n",
       "    .dataframe tbody tr th:only-of-type {\n",
       "        vertical-align: middle;\n",
       "    }\n",
       "\n",
       "    .dataframe tbody tr th {\n",
       "        vertical-align: top;\n",
       "    }\n",
       "\n",
       "    .dataframe thead th {\n",
       "        text-align: right;\n",
       "    }\n",
       "</style>\n",
       "<table border=\"1\" class=\"dataframe\">\n",
       "  <thead>\n",
       "    <tr style=\"text-align: right;\">\n",
       "      <th></th>\n",
       "      <th>business_id</th>\n",
       "      <th>stars_x</th>\n",
       "      <th>stars_y</th>\n",
       "      <th>text</th>\n",
       "    </tr>\n",
       "  </thead>\n",
       "  <tbody>\n",
       "    <tr>\n",
       "      <th>0</th>\n",
       "      <td>6iYb2HFDywm3zjuRg0shjw</td>\n",
       "      <td>4.0</td>\n",
       "      <td>5.0</td>\n",
       "      <td>b\"Stopped in on a busy Friday night. Despite t...</td>\n",
       "    </tr>\n",
       "    <tr>\n",
       "      <th>1</th>\n",
       "      <td>6iYb2HFDywm3zjuRg0shjw</td>\n",
       "      <td>4.0</td>\n",
       "      <td>2.0</td>\n",
       "      <td>b\"Went there about 1 PM on a Monday.  It wasn'...</td>\n",
       "    </tr>\n",
       "    <tr>\n",
       "      <th>2</th>\n",
       "      <td>6iYb2HFDywm3zjuRg0shjw</td>\n",
       "      <td>4.0</td>\n",
       "      <td>5.0</td>\n",
       "      <td>b\"This was the place the be on Friday Night! I...</td>\n",
       "    </tr>\n",
       "    <tr>\n",
       "      <th>3</th>\n",
       "      <td>6iYb2HFDywm3zjuRg0shjw</td>\n",
       "      <td>4.0</td>\n",
       "      <td>4.0</td>\n",
       "      <td>b\"Went to this place with my family over the w...</td>\n",
       "    </tr>\n",
       "    <tr>\n",
       "      <th>4</th>\n",
       "      <td>6iYb2HFDywm3zjuRg0shjw</td>\n",
       "      <td>4.0</td>\n",
       "      <td>4.0</td>\n",
       "      <td>b\"Stopped on a midweek afternoon, and so glad ...</td>\n",
       "    </tr>\n",
       "  </tbody>\n",
       "</table>\n",
       "</div>"
      ],
      "text/plain": [
       "              business_id  stars_x  stars_y  \\\n",
       "0  6iYb2HFDywm3zjuRg0shjw      4.0      5.0   \n",
       "1  6iYb2HFDywm3zjuRg0shjw      4.0      2.0   \n",
       "2  6iYb2HFDywm3zjuRg0shjw      4.0      5.0   \n",
       "3  6iYb2HFDywm3zjuRg0shjw      4.0      4.0   \n",
       "4  6iYb2HFDywm3zjuRg0shjw      4.0      4.0   \n",
       "\n",
       "                                                text  \n",
       "0  b\"Stopped in on a busy Friday night. Despite t...  \n",
       "1  b\"Went there about 1 PM on a Monday.  It wasn'...  \n",
       "2  b\"This was the place the be on Friday Night! I...  \n",
       "3  b\"Went to this place with my family over the w...  \n",
       "4  b\"Stopped on a midweek afternoon, and so glad ...  "
      ]
     },
     "execution_count": 30,
     "metadata": {},
     "output_type": "execute_result"
    }
   ],
   "source": [
    "#Remove review_count from DataFrame\n",
    "df.drop('review_count', axis=1, inplace=True)\n",
    "\n",
    "df[0:5]"
   ]
  },
  {
   "cell_type": "code",
   "execution_count": 31,
   "id": "c09b2340",
   "metadata": {},
   "outputs": [],
   "source": [
    "#Group review text with business_id and prepare DataFrame for sklearn\n",
    "df_review_agg = df.groupby('business_id')['text'].sum()\n",
    "df_ready_for_sklearn=pd.DataFrame({'business_id': df_review_agg.index, 'all_reviews': df_review_agg.values})"
   ]
  },
  {
   "cell_type": "code",
   "execution_count": 32,
   "id": "c3810e1b",
   "metadata": {},
   "outputs": [
    {
     "name": "stdout",
     "output_type": "stream",
     "text": [
      "Finished in 933.1395535469055 seconds\n"
     ]
    }
   ],
   "source": [
    "#Create TF-IDF Vectorizer and teach with reviews\n",
    "import time\n",
    "start_time=time.time()\n",
    "vectorizer = sk_text.TfidfVectorizer(\n",
    "    stop_words='english',\n",
    "    max_features=1000, \n",
    "    min_df=1)\n",
    "matrix = vectorizer.fit_transform(df_ready_for_sklearn.all_reviews)\n",
    "print(f\"Finished in {time.time() - start_time} seconds\")"
   ]
  },
  {
   "cell_type": "code",
   "execution_count": 41,
   "id": "c565b96a",
   "metadata": {},
   "outputs": [],
   "source": [
    "#Turn Vectorizer matrix into array usable with TensorFlow\n",
    "tfidf_data = matrix.toarray()"
   ]
  },
  {
   "cell_type": "code",
   "execution_count": 42,
   "id": "9b88cbf6",
   "metadata": {},
   "outputs": [
    {
     "data": {
      "text/plain": [
       "(73031, 1000)"
      ]
     },
     "execution_count": 42,
     "metadata": {},
     "output_type": "execute_result"
    }
   ],
   "source": [
    "#Print shape for validation\n",
    "tfidf_data.shape"
   ]
  },
  {
   "cell_type": "code",
   "execution_count": 53,
   "id": "6c1eb2b3",
   "metadata": {},
   "outputs": [
    {
     "data": {
      "text/plain": [
       "73031"
      ]
     },
     "execution_count": 53,
     "metadata": {},
     "output_type": "execute_result"
    }
   ],
   "source": [
    "#Create array of business star values\n",
    "y = df_business.stars.values.astype(np.float32)\n",
    "\n",
    "#Print array size for validation\n",
    "y.size"
   ]
  },
  {
   "cell_type": "code",
   "execution_count": 50,
   "id": "f940aabf",
   "metadata": {},
   "outputs": [],
   "source": [
    "# Split into train/test\n",
    "x_train, x_test, y_train, y_test = train_test_split(tfidf_data, y, test_size=0.25, random_state=42)"
   ]
  },
  {
   "cell_type": "code",
   "execution_count": 45,
   "id": "92228038",
   "metadata": {},
   "outputs": [
    {
     "name": "stdout",
     "output_type": "stream",
     "text": [
      "Epoch 1/1000\n",
      "428/428 - 1s - loss: 2.1346 - val_loss: 0.6706\n",
      "Epoch 2/1000\n",
      "428/428 - 1s - loss: 0.6724 - val_loss: 0.6645\n",
      "Epoch 3/1000\n",
      "428/428 - 1s - loss: 0.6721 - val_loss: 0.6645\n",
      "Epoch 4/1000\n",
      "428/428 - 1s - loss: 0.6721 - val_loss: 0.6645\n",
      "Epoch 5/1000\n",
      "428/428 - 1s - loss: 0.6720 - val_loss: 0.6644\n",
      "Epoch 6/1000\n",
      "428/428 - 1s - loss: 0.6719 - val_loss: 0.6644\n",
      "Epoch 7/1000\n",
      "428/428 - 1s - loss: 0.6719 - val_loss: 0.6644\n",
      "Epoch 00007: early stopping\n"
     ]
    },
    {
     "data": {
      "text/plain": [
       "<tensorflow.python.keras.callbacks.History at 0x1a3be2349d0>"
      ]
     },
     "execution_count": 45,
     "metadata": {},
     "output_type": "execute_result"
    }
   ],
   "source": [
    "#Build model\n",
    "model = Sequential()\n",
    "\n",
    "#Create layers\n",
    "model.add(Dense(20, input_dim=tfidf_data.shape[1], activation='sigmoid'))\n",
    "model.add(Dense(10, activation='sigmoid'))\n",
    "model.add(Dense(1))\n",
    "\n",
    "#Compile model\n",
    "model.compile(loss='mean_squared_error', optimizer='adam')\n",
    "\n",
    "#Define early stopping parameters\n",
    "monitor = EarlyStopping(monitor='val_loss', min_delta=1e-3, patience=5, verbose=1, mode='auto')\n",
    "\n",
    "#Fit data\n",
    "model.fit(x_train, y_train, validation_data=(x_test,y_test), batch_size=128, callbacks=[monitor], verbose=2, epochs=1000)  \n"
   ]
  },
  {
   "cell_type": "code",
   "execution_count": 46,
   "id": "c8625df6",
   "metadata": {},
   "outputs": [
    {
     "name": "stdout",
     "output_type": "stream",
     "text": [
      "Final score (MSE): 0.6644092798233032\n",
      "Final score (RMSE): 0.8151130676269531\n"
     ]
    }
   ],
   "source": [
    "# Predict\n",
    "pred = model.predict(x_test)\n",
    "\n",
    "# Measure MSE error.  \n",
    "MSEscore = metrics.mean_squared_error(pred,y_test)\n",
    "print(\"Final score (MSE): {}\".format(MSEscore))\n",
    "      \n",
    "# Measure RMSE error.  RMSE is common for regression.\n",
    "RMSEscore = np.sqrt(metrics.mean_squared_error(pred,y_test))\n",
    "print(\"Final score (RMSE): {}\".format(RMSEscore))"
   ]
  },
  {
   "cell_type": "code",
   "execution_count": 47,
   "id": "d598cb47",
   "metadata": {},
   "outputs": [
    {
     "data": {
      "image/png": "[encoded data removed]",
      "text/plain": [
       "<Figure size 432x288 with 1 Axes>"
      ]
     },
     "metadata": {
      "needs_background": "light"
     },
     "output_type": "display_data"
    }
   ],
   "source": [
    "#Chart regression\n",
    "chart_regression(pred.flatten(),y_test,sort=True)"
   ]
  },
  {
   "cell_type": "code",
   "execution_count": 48,
   "id": "45ac1e35",
   "metadata": {},
   "outputs": [
    {
     "name": "stdout",
     "output_type": "stream",
     "text": [
      "[[3.6135366]\n",
      " [3.640924 ]\n",
      " [3.6044917]\n",
      " ...\n",
      " [3.644472 ]\n",
      " [3.5963364]\n",
      " [3.6386278]]\n"
     ]
    }
   ],
   "source": [
    "print(pred)"
   ]
  },
  {
   "cell_type": "code",
   "execution_count": null,
   "id": "331e7404",
   "metadata": {},
   "outputs": [],
   "source": []
  }
 ],
 "metadata": {
  "kernelspec": {
   "display_name": "Python 3",
   "language": "python",
   "name": "python3"
  },
  "language_info": {
   "codemirror_mode": {
    "name": "ipython",
    "version": 3
   },
   "file_extension": ".py",
   "mimetype": "text/x-python",
   "name": "python",
   "nbconvert_exporter": "python",
   "pygments_lexer": "ipython3",
   "version": "3.8.8"
  }
 },
 "nbformat": 4,
 "nbformat_minor": 5
}
